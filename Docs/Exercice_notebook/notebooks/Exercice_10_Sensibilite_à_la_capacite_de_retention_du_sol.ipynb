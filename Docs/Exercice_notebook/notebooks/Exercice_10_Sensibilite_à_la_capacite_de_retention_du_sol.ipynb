{
  "cells": [
    {
      "cell_type": "markdown",
      "metadata": {},
      "source": [
        "# Exercice 10 : Sensibilité à la capacité de rétention du sol",
        "",
        "---",
        "",
        "## 🎯 Objectif",
        "",
        "Évaluer l'impact du type de sol sur la production limitée par l'eau",
        "",
        "---",
        "",
        "## 📖 Qu'est-ce qu'on va faire ?",
        "",
        "1. Tester sols de différentes textures",
        "2. Comparer sols grossiers, moyens et fins",
        "3. Analyser l'impact sur le rendement",
        "4. Identifier le sol optimal",
        "",
        "---",
        "",
        "## ⚙️ Concepts clés",
        "",
        "- **Capacité au champ**",
        "- **Point de flétrissement**",
        "- **Texture du sol**",
        "- **Rétention d'eau**"
      ]
    },
    {
      "cell_type": "code",
      "execution_count": null,
      "metadata": {},
      "outputs": [],
      "source": [
        "# Imports nécessaires",
        "import os",
        "import sys",
        "import yaml",
        "import pandas as pd",
        "import numpy as np",
        "import matplotlib.pyplot as plt",
        "from datetime import datetime, timedelta",
        "",
        "# Configuration des graphiques",
        "plt.style.use('seaborn-v0_8-darkgrid')",
        "plt.rcParams['figure.figsize'] = (12, 6)",
        "plt.rcParams['font.size'] = 10",
        "",
        "print('='*70)",
        "print('  EXERCICE 10: SENSIBILITÉ À LA CAPACITÉ DE RÉTENTION DU SOL')",
        "print('='*70)",
        "print('\\n✅ Environnement configuré')"
      ]
    },
    {
      "cell_type": "markdown",
      "metadata": {},
      "source": [
        "## 📋 Instructions de l'exercice",
        "",
        "Cet exercice vous guide dans : **Évaluer l'impact du type de sol sur la production limitée par l'eau**",
        "",
        "### Étapes à suivre :",
        "",
        "1. Tester sols de différentes textures",
        "2. Comparer sols grossiers, moyens et fins",
        "3. Analyser l'impact sur le rendement",
        "4. Identifier le sol optimal"
      ]
    },
    {
      "cell_type": "code",
      "execution_count": null,
      "metadata": {},
      "outputs": [],
      "source": [
        "# Zone de travail - Exercice 10",
        "",
        "# TODO: Implémenter la simulation WOFOST",
        "# Suivez les instructions ci-dessus",
        "",
        "print('\\n📝 Exercice 10 en cours...')",
        "print('Objectif: Évaluer l'impact du type de sol sur la production limitée par l'eau')"
      ]
    },
    {
      "cell_type": "markdown",
      "metadata": {},
      "source": [
        "## ✅ Points clés à retenir",
        "",
        "- Capacité au champ",
        "- Point de flétrissement",
        "- Texture du sol",
        "- Rétention d'eau",
        "",
        "---",
        "",
        "**📚 Exercice suivant : Exercice 11** (si disponible)"
      ]
    }
  ],
  "metadata": {
    "kernelspec": {
      "display_name": "Python 3 (py3_pcse)",
      "language": "python",
      "name": "py3_pcse"
    },
    "language_info": {
      "codemirror_mode": {
        "name": "ipython",
        "version": 3
      },
      "file_extension": ".py",
      "mimetype": "text/x-python",
      "name": "python",
      "nbconvert_exporter": "python",
      "pygments_lexer": "ipython3",
      "version": "3.10.18"
    }
  },
  "nbformat": 4,
  "nbformat_minor": 4
}