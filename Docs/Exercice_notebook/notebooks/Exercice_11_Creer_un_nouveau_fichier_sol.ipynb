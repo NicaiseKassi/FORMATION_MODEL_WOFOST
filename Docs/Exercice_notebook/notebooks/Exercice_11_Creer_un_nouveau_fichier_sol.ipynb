{
  "cells": [
    {
      "cell_type": "markdown",
      "metadata": {},
      "source": [
        "# Exercice 11 : Créer un nouveau fichier sol",
        "",
        "---",
        "",
        "## 🎯 Objectif",
        "",
        "Créer un fichier soil avec des paramètres hydriques mesurés sur le terrain",
        "",
        "---",
        "",
        "## 📖 Qu'est-ce qu'on va faire ?",
        "",
        "1. Copier un fichier soil existant",
        "2. Modifier SMW (wilting point)",
        "3. Modifier SMFCF (field capacity)",
        "4. Tester le nouveau fichier",
        "",
        "---",
        "",
        "## ⚙️ Concepts clés",
        "",
        "- **Fichier soil**",
        "- **Paramètres hydriques**",
        "- **SMW**",
        "- **SMFCF**"
      ]
    },
    {
      "cell_type": "code",
      "execution_count": null,
      "metadata": {},
      "outputs": [],
      "source": [
        "# Imports nécessaires",
        "import os",
        "import sys",
        "import yaml",
        "import pandas as pd",
        "import numpy as np",
        "import matplotlib.pyplot as plt",
        "from datetime import datetime, timedelta",
        "",
        "# Configuration des graphiques",
        "plt.style.use('seaborn-v0_8-darkgrid')",
        "plt.rcParams['figure.figsize'] = (12, 6)",
        "plt.rcParams['font.size'] = 10",
        "",
        "print('='*70)",
        "print('  EXERCICE 11: CRÉER UN NOUVEAU FICHIER SOL')",
        "print('='*70)",
        "print('\\n✅ Environnement configuré')"
      ]
    },
    {
      "cell_type": "markdown",
      "metadata": {},
      "source": [
        "## 📋 Instructions de l'exercice",
        "",
        "Cet exercice vous guide dans : **Créer un fichier soil avec des paramètres hydriques mesurés sur le terrain**",
        "",
        "### Étapes à suivre :",
        "",
        "1. Copier un fichier soil existant",
        "2. Modifier SMW (wilting point)",
        "3. Modifier SMFCF (field capacity)",
        "4. Tester le nouveau fichier"
      ]
    },
    {
      "cell_type": "code",
      "execution_count": null,
      "metadata": {},
      "outputs": [],
      "source": [
        "# Zone de travail - Exercice 11",
        "",
        "# TODO: Implémenter la simulation WOFOST",
        "# Suivez les instructions ci-dessus",
        "",
        "print('\\n📝 Exercice 11 en cours...')",
        "print('Objectif: Créer un fichier soil avec des paramètres hydriques mesurés sur le terrain')"
      ]
    },
    {
      "cell_type": "markdown",
      "metadata": {},
      "source": [
        "## ✅ Points clés à retenir",
        "",
        "- Fichier soil",
        "- Paramètres hydriques",
        "- SMW",
        "- SMFCF",
        "",
        "---",
        "",
        "**📚 Exercice suivant : Exercice 12** (si disponible)"
      ]
    }
  ],
  "metadata": {
    "kernelspec": {
      "display_name": "Python 3 (py3_pcse)",
      "language": "python",
      "name": "py3_pcse"
    },
    "language_info": {
      "codemirror_mode": {
        "name": "ipython",
        "version": 3
      },
      "file_extension": ".py",
      "mimetype": "text/x-python",
      "name": "python",
      "nbconvert_exporter": "python",
      "pygments_lexer": "ipython3",
      "version": "3.10.18"
    }
  },
  "nbformat": 4,
  "nbformat_minor": 4
}