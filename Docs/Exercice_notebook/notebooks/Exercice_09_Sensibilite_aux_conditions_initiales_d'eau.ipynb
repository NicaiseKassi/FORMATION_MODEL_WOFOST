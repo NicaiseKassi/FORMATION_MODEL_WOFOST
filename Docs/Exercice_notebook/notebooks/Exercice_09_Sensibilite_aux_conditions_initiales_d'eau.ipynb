{
  "cells": [
    {
      "cell_type": "markdown",
      "metadata": {},
      "source": [
        "# Exercice 9 : Sensibilité aux conditions initiales d'eau",
        "",
        "---",
        "",
        "## 🎯 Objectif",
        "",
        "Évaluer l'impact de l'eau initiale du sol (SMLIM et WAV)",
        "",
        "---",
        "",
        "## 📖 Qu'est-ce qu'on va faire ?",
        "",
        "1. Tester différentes valeurs de SMLIM",
        "2. Tester différentes valeurs de WAV",
        "3. Comparer les rendements obtenus",
        "4. Analyser l'impact sur la croissance",
        "",
        "---",
        "",
        "## ⚙️ Concepts clés",
        "",
        "- **SMLIM**",
        "- **WAV**",
        "- **Eau initiale**",
        "- **Sensibilité**"
      ]
    },
    {
      "cell_type": "code",
      "execution_count": null,
      "metadata": {},
      "outputs": [],
      "source": [
        "# Imports nécessaires",
        "import os",
        "import sys",
        "import yaml",
        "import pandas as pd",
        "import numpy as np",
        "import matplotlib.pyplot as plt",
        "from datetime import datetime, timedelta",
        "",
        "# Configuration des graphiques",
        "plt.style.use('seaborn-v0_8-darkgrid')",
        "plt.rcParams['figure.figsize'] = (12, 6)",
        "plt.rcParams['font.size'] = 10",
        "",
        "print('='*70)",
        "print('  EXERCICE 9: SENSIBILITÉ AUX CONDITIONS INITIALES D'EAU')",
        "print('='*70)",
        "print('\\n✅ Environnement configuré')"
      ]
    },
    {
      "cell_type": "markdown",
      "metadata": {},
      "source": [
        "## 📋 Instructions de l'exercice",
        "",
        "Cet exercice vous guide dans : **Évaluer l'impact de l'eau initiale du sol (SMLIM et WAV)**",
        "",
        "### Étapes à suivre :",
        "",
        "1. Tester différentes valeurs de SMLIM",
        "2. Tester différentes valeurs de WAV",
        "3. Comparer les rendements obtenus",
        "4. Analyser l'impact sur la croissance"
      ]
    },
    {
      "cell_type": "code",
      "execution_count": null,
      "metadata": {},
      "outputs": [],
      "source": [
        "# Zone de travail - Exercice 9",
        "",
        "# TODO: Implémenter la simulation WOFOST",
        "# Suivez les instructions ci-dessus",
        "",
        "print('\\n📝 Exercice 9 en cours...')",
        "print('Objectif: Évaluer l'impact de l'eau initiale du sol (SMLIM et WAV)')"
      ]
    },
    {
      "cell_type": "markdown",
      "metadata": {},
      "source": [
        "## ✅ Points clés à retenir",
        "",
        "- SMLIM",
        "- WAV",
        "- Eau initiale",
        "- Sensibilité",
        "",
        "---",
        "",
        "**📚 Exercice suivant : Exercice 10** (si disponible)"
      ]
    }
  ],
  "metadata": {
    "kernelspec": {
      "display_name": "Python 3 (py3_pcse)",
      "language": "python",
      "name": "py3_pcse"
    },
    "language_info": {
      "codemirror_mode": {
        "name": "ipython",
        "version": 3
      },
      "file_extension": ".py",
      "mimetype": "text/x-python",
      "name": "python",
      "nbconvert_exporter": "python",
      "pygments_lexer": "ipython3",
      "version": "3.10.18"
    }
  },
  "nbformat": 4,
  "nbformat_minor": 4
}