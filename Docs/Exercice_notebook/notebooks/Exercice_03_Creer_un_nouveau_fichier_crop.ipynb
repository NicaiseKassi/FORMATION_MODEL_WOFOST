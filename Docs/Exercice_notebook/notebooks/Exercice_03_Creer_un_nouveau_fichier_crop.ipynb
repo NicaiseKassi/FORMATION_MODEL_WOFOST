{
  "cells": [
    {
      "cell_type": "markdown",
      "metadata": {},
      "source": [
        "# Exercice 3 : Créer un nouveau fichier crop",
        "",
        "---",
        "",
        "## 🎯 Objectif",
        "",
        "Créer un fichier de paramètres pour une nouvelle variété avec TSUM calibrés",
        "",
        "---",
        "",
        "## 📖 Qu'est-ce qu'on va faire ?",
        "",
        "1. Copier le fichier crop existant",
        "2. Modifier TSUM1 et TSUM2",
        "3. Sauvegarder sous un nouveau nom",
        "4. Tester la nouvelle variété",
        "",
        "---",
        "",
        "## ⚙️ Concepts clés",
        "",
        "- **Fichier crop**",
        "- **Paramètres calibrés**",
        "- **YAML/CAB format**"
      ]
    },
    {
      "cell_type": "code",
      "execution_count": null,
      "metadata": {},
      "outputs": [],
      "source": [
        "# Imports nécessaires",
        "import os",
        "import sys",
        "import yaml",
        "import pandas as pd",
        "import numpy as np",
        "import matplotlib.pyplot as plt",
        "from datetime import datetime, timedelta",
        "",
        "# Configuration des graphiques",
        "plt.style.use('seaborn-v0_8-darkgrid')",
        "plt.rcParams['figure.figsize'] = (12, 6)",
        "plt.rcParams['font.size'] = 10",
        "",
        "print('='*70)",
        "print('  EXERCICE 3: CRÉER UN NOUVEAU FICHIER CROP')",
        "print('='*70)",
        "print('\\n✅ Environnement configuré')"
      ]
    },
    {
      "cell_type": "markdown",
      "metadata": {},
      "source": [
        "## 📋 Instructions de l'exercice",
        "",
        "Cet exercice vous guide dans : **Créer un fichier de paramètres pour une nouvelle variété avec TSUM calibrés**",
        "",
        "### Étapes à suivre :",
        "",
        "1. Copier le fichier crop existant",
        "2. Modifier TSUM1 et TSUM2",
        "3. Sauvegarder sous un nouveau nom",
        "4. Tester la nouvelle variété"
      ]
    },
    {
      "cell_type": "code",
      "execution_count": null,
      "metadata": {},
      "outputs": [],
      "source": [
        "# Zone de travail - Exercice 3",
        "",
        "# TODO: Implémenter la simulation WOFOST",
        "# Suivez les instructions ci-dessus",
        "",
        "print('\\n📝 Exercice 3 en cours...')",
        "print('Objectif: Créer un fichier de paramètres pour une nouvelle variété avec TSUM calibrés')"
      ]
    },
    {
      "cell_type": "markdown",
      "metadata": {},
      "source": [
        "## ✅ Points clés à retenir",
        "",
        "- Fichier crop",
        "- Paramètres calibrés",
        "- YAML/CAB format",
        "",
        "---",
        "",
        "**📚 Exercice suivant : Exercice 4** (si disponible)"
      ]
    }
  ],
  "metadata": {
    "kernelspec": {
      "display_name": "Python 3 (py3_pcse)",
      "language": "python",
      "name": "py3_pcse"
    },
    "language_info": {
      "codemirror_mode": {
        "name": "ipython",
        "version": 3
      },
      "file_extension": ".py",
      "mimetype": "text/x-python",
      "name": "python",
      "nbconvert_exporter": "python",
      "pygments_lexer": "ipython3",
      "version": "3.10.18"
    }
  },
  "nbformat": 4,
  "nbformat_minor": 4
}