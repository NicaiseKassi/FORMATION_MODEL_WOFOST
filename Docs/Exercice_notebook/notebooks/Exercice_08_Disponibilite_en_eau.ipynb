{
  "cells": [
    {
      "cell_type": "markdown",
      "metadata": {},
      "source": [
        "# Exercice 8 : Disponibilité en eau",
        "",
        "---",
        "",
        "## 🎯 Objectif",
        "",
        "Comprendre la balance hydrique et la production limitée par l'eau",
        "",
        "---",
        "",
        "## 📖 Qu'est-ce qu'on va faire ?",
        "",
        "1. Simuler en mode water-limited production",
        "2. Analyser les périodes de stress hydrique",
        "3. Comparer avec la production potentielle",
        "4. Examiner le contenu en eau du sol",
        "",
        "---",
        "",
        "## ⚙️ Concepts clés",
        "",
        "- **Production limitée eau**",
        "- **Stress hydrique**",
        "- **Balance hydrique**",
        "- **WOFOST_WLP_FD**"
      ]
    },
    {
      "cell_type": "code",
      "execution_count": null,
      "metadata": {},
      "outputs": [],
      "source": [
        "# Imports nécessaires",
        "import os",
        "import sys",
        "import yaml",
        "import pandas as pd",
        "import numpy as np",
        "import matplotlib.pyplot as plt",
        "from datetime import datetime, timedelta",
        "",
        "# Configuration des graphiques",
        "plt.style.use('seaborn-v0_8-darkgrid')",
        "plt.rcParams['figure.figsize'] = (12, 6)",
        "plt.rcParams['font.size'] = 10",
        "",
        "print('='*70)",
        "print('  EXERCICE 8: DISPONIBILITÉ EN EAU')",
        "print('='*70)",
        "print('\\n✅ Environnement configuré')"
      ]
    },
    {
      "cell_type": "markdown",
      "metadata": {},
      "source": [
        "## 📋 Instructions de l'exercice",
        "",
        "Cet exercice vous guide dans : **Comprendre la balance hydrique et la production limitée par l'eau**",
        "",
        "### Étapes à suivre :",
        "",
        "1. Simuler en mode water-limited production",
        "2. Analyser les périodes de stress hydrique",
        "3. Comparer avec la production potentielle",
        "4. Examiner le contenu en eau du sol"
      ]
    },
    {
      "cell_type": "code",
      "execution_count": null,
      "metadata": {},
      "outputs": [],
      "source": [
        "# Zone de travail - Exercice 8",
        "",
        "# TODO: Implémenter la simulation WOFOST",
        "# Suivez les instructions ci-dessus",
        "",
        "print('\\n📝 Exercice 8 en cours...')",
        "print('Objectif: Comprendre la balance hydrique et la production limitée par l'eau')"
      ]
    },
    {
      "cell_type": "markdown",
      "metadata": {},
      "source": [
        "## ✅ Points clés à retenir",
        "",
        "- Production limitée eau",
        "- Stress hydrique",
        "- Balance hydrique",
        "- WOFOST_WLP_FD",
        "",
        "---",
        "",
        "**📚 Exercice suivant : Exercice 9** (si disponible)"
      ]
    }
  ],
  "metadata": {
    "kernelspec": {
      "display_name": "Python 3 (py3_pcse)",
      "language": "python",
      "name": "py3_pcse"
    },
    "language_info": {
      "codemirror_mode": {
        "name": "ipython",
        "version": 3
      },
      "file_extension": ".py",
      "mimetype": "text/x-python",
      "name": "python",
      "nbconvert_exporter": "python",
      "pygments_lexer": "ipython3",
      "version": "3.10.18"
    }
  },
  "nbformat": 4,
  "nbformat_minor": 4
}