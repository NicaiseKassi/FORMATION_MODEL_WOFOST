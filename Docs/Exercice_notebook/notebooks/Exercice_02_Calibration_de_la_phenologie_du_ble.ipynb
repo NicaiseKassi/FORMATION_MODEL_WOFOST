{
  "cells": [
    {
      "cell_type": "markdown",
      "metadata": {},
      "source": [
        "# Exercice 2 : Calibration de la phénologie du blé",
        "",
        "---",
        "",
        "## 🎯 Objectif",
        "",
        "Ajuster TSUM1 et TSUM2 pour faire correspondre les dates phénologiques simulées avec les observations",
        "",
        "---",
        "",
        "## 📖 Qu'est-ce qu'on va faire ?",
        "",
        "1. Comparer dates simulées vs observées",
        "2. Tester 4 scénarios avec TSUM1 et TSUM2 décroissants",
        "3. Identifier les valeurs optimales",
        "4. Valider avec les observations",
        "",
        "---",
        "",
        "## ⚙️ Concepts clés",
        "",
        "- **TSUM1**",
        "- **TSUM2**",
        "- **Calibration**",
        "- **Somme de températures**"
      ]
    },
    {
      "cell_type": "code",
      "execution_count": null,
      "metadata": {},
      "outputs": [],
      "source": [
        "# Imports nécessaires",
        "import os",
        "import sys",
        "import yaml",
        "import pandas as pd",
        "import numpy as np",
        "import matplotlib.pyplot as plt",
        "from datetime import datetime, timedelta",
        "",
        "# Configuration des graphiques",
        "plt.style.use('seaborn-v0_8-darkgrid')",
        "plt.rcParams['figure.figsize'] = (12, 6)",
        "plt.rcParams['font.size'] = 10",
        "",
        "print('='*70)",
        "print('  EXERCICE 2: CALIBRATION DE LA PHÉNOLOGIE DU BLÉ')",
        "print('='*70)",
        "print('\\n✅ Environnement configuré')"
      ]
    },
    {
      "cell_type": "markdown",
      "metadata": {},
      "source": [
        "## 📋 Instructions de l'exercice",
        "",
        "Cet exercice vous guide dans : **Ajuster TSUM1 et TSUM2 pour faire correspondre les dates phénologiques simulées avec les observations**",
        "",
        "### Étapes à suivre :",
        "",
        "1. Comparer dates simulées vs observées",
        "2. Tester 4 scénarios avec TSUM1 et TSUM2 décroissants",
        "3. Identifier les valeurs optimales",
        "4. Valider avec les observations"
      ]
    },
    {
      "cell_type": "code",
      "execution_count": null,
      "metadata": {},
      "outputs": [],
      "source": [
        "# Zone de travail - Exercice 2",
        "",
        "# TODO: Implémenter la simulation WOFOST",
        "# Suivez les instructions ci-dessus",
        "",
        "print('\\n📝 Exercice 2 en cours...')",
        "print('Objectif: Ajuster TSUM1 et TSUM2 pour faire correspondre les dates phénologiques simulées avec les observations')"
      ]
    },
    {
      "cell_type": "markdown",
      "metadata": {},
      "source": [
        "## ✅ Points clés à retenir",
        "",
        "- TSUM1",
        "- TSUM2",
        "- Calibration",
        "- Somme de températures",
        "",
        "---",
        "",
        "**📚 Exercice suivant : Exercice 3** (si disponible)"
      ]
    }
  ],
  "metadata": {
    "kernelspec": {
      "display_name": "Python 3 (py3_pcse)",
      "language": "python",
      "name": "py3_pcse"
    },
    "language_info": {
      "codemirror_mode": {
        "name": "ipython",
        "version": 3
      },
      "file_extension": ".py",
      "mimetype": "text/x-python",
      "name": "python",
      "nbconvert_exporter": "python",
      "pygments_lexer": "ipython3",
      "version": "3.10.18"
    }
  },
  "nbformat": 4,
  "nbformat_minor": 4
}