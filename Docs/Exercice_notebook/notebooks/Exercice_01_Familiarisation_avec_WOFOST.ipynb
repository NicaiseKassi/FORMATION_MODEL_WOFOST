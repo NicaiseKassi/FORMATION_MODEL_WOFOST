{
  "cells": [
    {
      "cell_type": "markdown",
      "metadata": {},
      "source": [
        "# Exercice 1 : Familiarisation avec WOFOST",
        "",
        "---",
        "",
        "## 🎯 Objectif",
        "",
        "Première simulation de croissance du blé d'hiver en production potentielle",
        "",
        "---",
        "",
        "## 📖 Qu'est-ce qu'on va faire ?",
        "",
        "1. Configurer une simulation WOFOST pour le blé",
        "2. Lancer la simulation en mode production potentielle",
        "3. Observer les dates d'émergence, anthèse et maturité",
        "4. Analyser l'évolution de la biomasse et du LAI",
        "",
        "---",
        "",
        "## ⚙️ Concepts clés",
        "",
        "- **DVS**",
        "- **TAGP**",
        "- **LAI**",
        "- **Production potentielle**"
      ]
    },
    {
      "cell_type": "code",
      "execution_count": null,
      "metadata": {},
      "outputs": [],
      "source": [
        "# Imports nécessaires",
        "import os",
        "import sys",
        "import yaml",
        "import pandas as pd",
        "import numpy as np",
        "import matplotlib.pyplot as plt",
        "from datetime import datetime, timedelta",
        "",
        "# Configuration des graphiques",
        "plt.style.use('seaborn-v0_8-darkgrid')",
        "plt.rcParams['figure.figsize'] = (12, 6)",
        "plt.rcParams['font.size'] = 10",
        "",
        "print('='*70)",
        "print('  EXERCICE 1: FAMILIARISATION AVEC WOFOST')",
        "print('='*70)",
        "print('\\n✅ Environnement configuré')"
      ]
    },
    {
      "cell_type": "markdown",
      "metadata": {},
      "source": [
        "## 📋 Instructions de l'exercice",
        "",
        "Cet exercice vous guide dans : **Première simulation de croissance du blé d'hiver en production potentielle**",
        "",
        "### Étapes à suivre :",
        "",
        "1. Configurer une simulation WOFOST pour le blé",
        "2. Lancer la simulation en mode production potentielle",
        "3. Observer les dates d'émergence, anthèse et maturité",
        "4. Analyser l'évolution de la biomasse et du LAI"
      ]
    },
    {
      "cell_type": "code",
      "execution_count": null,
      "metadata": {},
      "outputs": [],
      "source": [
        "# Zone de travail - Exercice 1",
        "",
        "# TODO: Implémenter la simulation WOFOST",
        "# Suivez les instructions ci-dessus",
        "",
        "print('\\n📝 Exercice 1 en cours...')",
        "print('Objectif: Première simulation de croissance du blé d'hiver en production potentielle')"
      ]
    },
    {
      "cell_type": "markdown",
      "metadata": {},
      "source": [
        "## ✅ Points clés à retenir",
        "",
        "- DVS",
        "- TAGP",
        "- LAI",
        "- Production potentielle",
        "",
        "---",
        "",
        "**📚 Exercice suivant : Exercice 2** (si disponible)"
      ]
    }
  ],
  "metadata": {
    "kernelspec": {
      "display_name": "Python 3 (py3_pcse)",
      "language": "python",
      "name": "py3_pcse"
    },
    "language_info": {
      "codemirror_mode": {
        "name": "ipython",
        "version": 3
      },
      "file_extension": ".py",
      "mimetype": "text/x-python",
      "name": "python",
      "nbconvert_exporter": "python",
      "pygments_lexer": "ipython3",
      "version": "3.10.18"
    }
  },
  "nbformat": 4,
  "nbformat_minor": 4
}